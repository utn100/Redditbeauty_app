{
 "cells": [
  {
   "cell_type": "code",
   "execution_count": 1,
   "metadata": {
    "collapsed": true
   },
   "outputs": [],
   "source": [
    "import string\n",
    "import csv\n",
    "import time\n",
    "import re\n",
    "import pandas as pd\n",
    "import numpy as np\n",
    "import matplotlib.pyplot as plt\n",
    "%matplotlib inline"
   ]
  },
  {
   "cell_type": "code",
   "execution_count": 2,
   "metadata": {
    "collapsed": true
   },
   "outputs": [],
   "source": [
    "from sklearn.manifold import MDS\n",
    "from sklearn.metrics.pairwise import pairwise_distances\n",
    "from sklearn.model_selection import train_test_split\n",
    "from sklearn.preprocessing import StandardScaler\n",
    "from sklearn.decomposition import PCA\n",
    "from sklearn.cluster import KMeans"
   ]
  },
  {
   "cell_type": "code",
   "execution_count": 3,
   "metadata": {
    "collapsed": true
   },
   "outputs": [],
   "source": [
    "import nltk\n",
    "from nltk.corpus import stopwords\n",
    "from nltk.stem.snowball import SnowballStemmer\n",
    "import gensim\n",
    "from gensim import corpora, models, similarities"
   ]
  },
  {
   "cell_type": "markdown",
   "metadata": {},
   "source": [
    "# Building Recommender\n",
    "To build this recommender, I used an approach of a hybrid between Cluster-based collaborative Filtering (CBCF) and Latent Sematic Indexing (LSI). The advantage of CBCF is to help solve the sparsity of the user-product matrix and LSI define a better product regime clusters.\n"
   ]
  },
  {
   "cell_type": "code",
   "execution_count": 4,
   "metadata": {},
   "outputs": [
    {
     "data": {
      "text/html": [
       "<div>\n",
       "<style>\n",
       "    .dataframe thead tr:only-child th {\n",
       "        text-align: right;\n",
       "    }\n",
       "\n",
       "    .dataframe thead th {\n",
       "        text-align: left;\n",
       "    }\n",
       "\n",
       "    .dataframe tbody tr th {\n",
       "        vertical-align: top;\n",
       "    }\n",
       "</style>\n",
       "<table border=\"1\" class=\"dataframe\">\n",
       "  <thead>\n",
       "    <tr style=\"text-align: right;\">\n",
       "      <th></th>\n",
       "      <th>Unnamed: 0</th>\n",
       "      <th>product_id</th>\n",
       "      <th>user_id</th>\n",
       "      <th>age</th>\n",
       "      <th>skin_type</th>\n",
       "      <th>skin_tone</th>\n",
       "      <th>skin_temp</th>\n",
       "      <th>review</th>\n",
       "      <th>user_rating</th>\n",
       "      <th>userID</th>\n",
       "      <th>skintype_code</th>\n",
       "      <th>skintone_code</th>\n",
       "      <th>age_code</th>\n",
       "    </tr>\n",
       "  </thead>\n",
       "  <tbody>\n",
       "    <tr>\n",
       "      <th>0</th>\n",
       "      <td>0</td>\n",
       "      <td>1</td>\n",
       "      <td>KeithRichards</td>\n",
       "      <td>19-24</td>\n",
       "      <td>sensitive</td>\n",
       "      <td>Fair-Medium</td>\n",
       "      <td>Warm</td>\n",
       "      <td>This is one of my favorite masks. I can't beli...</td>\n",
       "      <td>5</td>\n",
       "      <td>1</td>\n",
       "      <td>0</td>\n",
       "      <td>1</td>\n",
       "      <td>1</td>\n",
       "    </tr>\n",
       "    <tr>\n",
       "      <th>1</th>\n",
       "      <td>1</td>\n",
       "      <td>1</td>\n",
       "      <td>violaceopes</td>\n",
       "      <td>19-24</td>\n",
       "      <td>sensitive</td>\n",
       "      <td>Fair</td>\n",
       "      <td>Warm</td>\n",
       "      <td>I have very oily skin, and Mint Julep Masque i...</td>\n",
       "      <td>4</td>\n",
       "      <td>2</td>\n",
       "      <td>0</td>\n",
       "      <td>0</td>\n",
       "      <td>1</td>\n",
       "    </tr>\n",
       "    <tr>\n",
       "      <th>2</th>\n",
       "      <td>2</td>\n",
       "      <td>1</td>\n",
       "      <td>stacy199512</td>\n",
       "      <td>19-24</td>\n",
       "      <td>acne-prone</td>\n",
       "      <td>Fair</td>\n",
       "      <td>Not Sure</td>\n",
       "      <td>Love this stuff! I have oily &amp; combo skin and ...</td>\n",
       "      <td>5</td>\n",
       "      <td>3</td>\n",
       "      <td>1</td>\n",
       "      <td>0</td>\n",
       "      <td>1</td>\n",
       "    </tr>\n",
       "    <tr>\n",
       "      <th>3</th>\n",
       "      <td>3</td>\n",
       "      <td>1</td>\n",
       "      <td>PeachSpice</td>\n",
       "      <td>18 &amp; Under</td>\n",
       "      <td>acne-prone</td>\n",
       "      <td>Fair</td>\n",
       "      <td>Not Sure</td>\n",
       "      <td>Skin type: oily/acne prone I have the tube ver...</td>\n",
       "      <td>5</td>\n",
       "      <td>4</td>\n",
       "      <td>1</td>\n",
       "      <td>0</td>\n",
       "      <td>0</td>\n",
       "    </tr>\n",
       "    <tr>\n",
       "      <th>4</th>\n",
       "      <td>4</td>\n",
       "      <td>1</td>\n",
       "      <td>eb458310</td>\n",
       "      <td>25-29</td>\n",
       "      <td>acne-prone</td>\n",
       "      <td>Medium</td>\n",
       "      <td>Not Sure</td>\n",
       "      <td>Great stuff! I've been using this product for ...</td>\n",
       "      <td>5</td>\n",
       "      <td>5</td>\n",
       "      <td>1</td>\n",
       "      <td>2</td>\n",
       "      <td>2</td>\n",
       "    </tr>\n",
       "  </tbody>\n",
       "</table>\n",
       "</div>"
      ],
      "text/plain": [
       "   Unnamed: 0  product_id        user_id         age   skin_type    skin_tone  \\\n",
       "0           0           1  KeithRichards       19-24   sensitive  Fair-Medium   \n",
       "1           1           1    violaceopes       19-24   sensitive         Fair   \n",
       "2           2           1    stacy199512       19-24  acne-prone         Fair   \n",
       "3           3           1     PeachSpice  18 & Under  acne-prone         Fair   \n",
       "4           4           1       eb458310       25-29  acne-prone       Medium   \n",
       "\n",
       "  skin_temp                                             review  user_rating  \\\n",
       "0      Warm  This is one of my favorite masks. I can't beli...            5   \n",
       "1      Warm  I have very oily skin, and Mint Julep Masque i...            4   \n",
       "2  Not Sure  Love this stuff! I have oily & combo skin and ...            5   \n",
       "3  Not Sure  Skin type: oily/acne prone I have the tube ver...            5   \n",
       "4  Not Sure  Great stuff! I've been using this product for ...            5   \n",
       "\n",
       "   userID  skintype_code  skintone_code  age_code  \n",
       "0       1              0              1         1  \n",
       "1       2              0              0         1  \n",
       "2       3              1              0         1  \n",
       "3       4              1              0         0  \n",
       "4       5              1              2         2  "
      ]
     },
     "execution_count": 4,
     "metadata": {},
     "output_type": "execute_result"
    }
   ],
   "source": [
    "#Import users datatable\n",
    "users = pd.read_csv('MakeupAlley_users_1.csv')\n",
    "users.head()"
   ]
  },
  {
   "cell_type": "code",
   "execution_count": 89,
   "metadata": {
    "collapsed": true
   },
   "outputs": [],
   "source": [
    "#Import product table\n",
    "products = pd.read_csv('MakeupAlley_products_1.csv')\n",
    "#Label product types (masks, cleansers, moisturizers)\n",
    "label = []\n",
    "for i in range(0,products.shape[0]):\n",
    "    if products['product_type'].iloc[i] == 'Masks':\n",
    "        label.append(1)\n",
    "    elif products['product_type'].iloc[i] == 'Cleansers':\n",
    "        label.append(2)\n",
    "    else:\n",
    "        label.append(3)"
   ]
  },
  {
   "cell_type": "code",
   "execution_count": 5,
   "metadata": {
    "collapsed": true
   },
   "outputs": [],
   "source": [
    "#Split data into train set and test set\n",
    "train_data, test_data = train_test_split(users, test_size=0.2)"
   ]
  },
  {
   "cell_type": "code",
   "execution_count": 70,
   "metadata": {
    "collapsed": true
   },
   "outputs": [],
   "source": [
    "#Predicting user rating for the train set from similarity matrices (user-user or item-item)\n",
    "def predict(ratings, similarity, type='user'):\n",
    "    if type == 'user':\n",
    "        mean_user_rating = ratings.mean(axis=1)\n",
    "        #use np.newaxis so that mean_user_rating has same format as ratings\n",
    "        ratings_diff = (ratings - mean_user_rating[:, np.newaxis]) \n",
    "        pred = mean_user_rating[:, np.newaxis] + similarity.dot(ratings_diff) / np.array([np.abs(similarity).sum(axis=1)]).T\n",
    "    elif type == 'item':\n",
    "        pred = ratings.dot(similarity) / np.array([np.abs(similarity).sum(axis=1)])     \n",
    "    return pred"
   ]
  },
  {
   "cell_type": "markdown",
   "metadata": {},
   "source": [
    "## Principle of LSI\n",
    "LSA is a widely used technique in natural language processing to identify the similarity between documents, . LSA transforms each document into a vector in a space of features. In our case, the features are words occuring in the document. Then, a matrix containing all vectors is created: columns represent the documents and rows represent unique words. Accordingly, the number of rows can amount to tens of thousands of words. In order to identify the relevant features of this matrix, the \"singular value decomposition\" (SVD), which is a popular dimension reduction technique, is used to reduce the number of rows -words- while maintaining and highlighting the similarity between columns -synopses-. The dimension of this approximation matrix is set by a hyper-parameter which is the number of topics. In this framework, a topic consists of a set of words with associated weights defining the contribution of each word to the direction of this topic. Based on this low-dimensional approximation matrix, the similarity between two columns -documents- is calculated using the cosine of the angle between these two vectors.\n",
    "(ref:https://www.kernix.com/blog/recommender-system-based-on-natural-language-processing_p10)\n"
   ]
  },
  {
   "cell_type": "code",
   "execution_count": 7,
   "metadata": {
    "collapsed": true
   },
   "outputs": [],
   "source": [
    "#Preprocessing text\n",
    "def clean_review(review):\n",
    "    review = str(review)\n",
    "    review_nopunc = ''.join([char for char in review.lower() if char not in string.punctuation])\n",
    "    punctuation = list(string.punctuation)\n",
    "    letter = list(string.ascii_lowercase)\n",
    "    stopwordlist = stopwords.words('english') + punctuation + letter\n",
    "    #review_remove = ' '.join(re.sub(\"(@[A-Za-z0-9]+)|([^0-9A-Za-z \\t])|(\\w+:\\/\\/\\S+)\", \" \", review).split())\n",
    "    review_nostopwords = [word for word in review_nopunc.lower().split() if word not in stopwordlist]\n",
    "    #sb_stemmer = SnowballStemmer(\"english\")\n",
    "    #review_stemmed = [sb_stemmer.stem(word) for word in review_nostopwords]\n",
    "    return review_nostopwords"
   ]
  },
  {
   "cell_type": "code",
   "execution_count": 93,
   "metadata": {},
   "outputs": [
    {
     "name": "stderr",
     "output_type": "stream",
     "text": [
      "/Users/uyennguyen/anaconda3/lib/python3.6/site-packages/ipykernel_launcher.py:2: SettingWithCopyWarning: \n",
      "A value is trying to be set on a copy of a slice from a DataFrame.\n",
      "Try using .loc[row_indexer,col_indexer] = value instead\n",
      "\n",
      "See the caveats in the documentation: http://pandas.pydata.org/pandas-docs/stable/indexing.html#indexing-view-versus-copy\n",
      "  \n"
     ]
    }
   ],
   "source": [
    "#Group review by product so each product is represented by a document of reviews and clean reviews.\n",
    "train_data['review'] = train_data['review'].apply(lambda x:str(x)) #Convert review data to string\n",
    "review_byid = train_data.groupby('product_id')['review'].apply(lambda x: \"{%s}\" % ' '.join(x))\n",
    "reviews_cleaned = review_byid.apply(clean_review) "
   ]
  },
  {
   "cell_type": "code",
   "execution_count": 398,
   "metadata": {
    "collapsed": true
   },
   "outputs": [],
   "source": [
    "#Build LSI model and calculate pairwise cosine similarity between products\n",
    "dictionary = corpora.Dictionary(reviews_cleaned)\n",
    "corpus = [dictionary.doc2bow(text) for text in reviews_cleaned]\n",
    "tfidf = models.TfidfModel(corpus)\n",
    "corpus_tfidf = tfidf[corpus]\n",
    "lsi = models.LsiModel(corpus_tfidf, id2word=dictionary, num_topics=5)\n",
    "model_corpus = lsi[corpus_tfidf]\n",
    "num=100\n",
    "\n",
    "#Calculate pairwise cosine similarity between products\n",
    "index = similarities.MatrixSimilarity(model_corpus, num_features=num)\n",
    "LSI_similarity = np.array([sim for sim in index])\n",
    "LSI_dist = 1-LSI_similarity"
   ]
  },
  {
   "cell_type": "code",
   "execution_count": 399,
   "metadata": {
    "collapsed": true
   },
   "outputs": [],
   "source": [
    "predict_LSI = predict(train_data_matrix_CBCF,LSI_dist,type='item')"
   ]
  },
  {
   "cell_type": "markdown",
   "metadata": {},
   "source": [
    "## Testing the traditional item-based collaborative filtering\n",
    "This problem with this is the data matrix is really sparse, we will see how bad this technique operates in the validation section"
   ]
  },
  {
   "cell_type": "code",
   "execution_count": 80,
   "metadata": {
    "collapsed": true
   },
   "outputs": [],
   "source": [
    "#Create two user-item matrices, one for training and another for testing \n",
    "#The data in test set are zeroed out in the train set\n",
    "n_users = users['userID'].nunique()\n",
    "n_items = users['product_id'].nunique()\n",
    "train_data_matrix = np.zeros((n_users, n_items))\n",
    "for line in train_data.itertuples():\n",
    "    train_data_matrix[line[10]-1, line[2]-1] = line[9]  \n",
    "    \n",
    "test_data_matrix = np.zeros((n_users, n_items))\n",
    "for line in test_data.itertuples():\n",
    "    test_data_matrix[line[10]-1, line[2]-1] = line[9]  \n",
    "#Generate item similarity with cosine metric\n",
    "item_similarity_CF = pairwise_distances(train_data_matrix.T, metric='cosine')\n"
   ]
  },
  {
   "cell_type": "code",
   "execution_count": 81,
   "metadata": {
    "collapsed": true
   },
   "outputs": [],
   "source": [
    "predict_CF = predict(train_data_matrix,item_similarity_CF,kind='item')"
   ]
  },
  {
   "cell_type": "markdown",
   "metadata": {},
   "source": [
    "# Clustering-based smoothing collaborative filtering\n",
    "The idea of this is to use some form of clustering users to fill in the missing rating values in the train data set, to help solve the sparsity problem.\n",
    "In this case the users provide age and skin type so this will be used to cluster users.\n",
    "In the first case, I simply used skin type to group users but in the second case, I used Kmean\n",
    "clustering to cluster users to 50 groups.\n"
   ]
  },
  {
   "cell_type": "markdown",
   "metadata": {},
   "source": [
    "### Grouping users by skintype"
   ]
  },
  {
   "cell_type": "code",
   "execution_count": 328,
   "metadata": {
    "collapsed": true
   },
   "outputs": [],
   "source": [
    "skintypecluster = train_data.groupby(['skintype_code','product_id'])['user_rating'].mean().reset_index()\n",
    "skintypecluster_rating = pd.pivot_table(skintypecluster,index='skintype_code',columns='product_id',values='user_rating',fill_value=0)\n",
    "skintypecluster_rating_matrix = np.array(skintypecluster_rating)"
   ]
  },
  {
   "cell_type": "code",
   "execution_count": 333,
   "metadata": {
    "collapsed": true
   },
   "outputs": [],
   "source": [
    "userIDs = []\n",
    "ave_ratings = []\n",
    "productIDs = []\n",
    "product_ids = np.arange(0,465)\n",
    "cluster = users.groupby('skintype_code')['userID'].unique()\n",
    "for i in range(0,7):\n",
    "    cluster_i = cluster[i]\n",
    "    ave_rating = skintypecluster_rating_matrix[i]\n",
    "    userIDs = userIDs +465*[cluster_i[j] for j in range(0,len(cluster_i))]\n",
    "    productIDs = productIDs+list(itertools.chain.from_iterable(itertools.repeat(x, len(cluster_i)) for x in product_ids))\n",
    "    ave_ratings = ave_ratings+list(itertools.chain.from_iterable(itertools.repeat(x, len(cluster_i)) for x in ave_rating))"
   ]
  },
  {
   "cell_type": "code",
   "execution_count": 334,
   "metadata": {
    "collapsed": true
   },
   "outputs": [],
   "source": [
    "skintype_averating = pd.DataFrame()\n",
    "skintype_averating['userID'] = userIDs\n",
    "skintype_averating['product_id'] = productIDs\n",
    "skintype_averating['ave_rating']=ave_ratings\n",
    "skintype_averating_pivot = pd.pivot_table(skintype_averating,index='userID',columns='product_id',values='ave_rating')\n",
    "skintype_averating_pivot_matrix = np.array(skintype_averating_pivot)"
   ]
  },
  {
   "cell_type": "markdown",
   "metadata": {},
   "source": [
    "### Alternatively, try another approach by K-mean clustering of users using all user skin profile information"
   ]
  },
  {
   "cell_type": "code",
   "execution_count": 57,
   "metadata": {
    "collapsed": true
   },
   "outputs": [],
   "source": [
    "data = users[['age_code','skintype_code','skintone_code']]\n",
    "kmeans = KMeans(n_clusters=50)\n",
    "kmeans.fit(data)\n",
    "users['KM_label'] = list(kmeans.labels_)"
   ]
  },
  {
   "cell_type": "code",
   "execution_count": 148,
   "metadata": {
    "collapsed": true
   },
   "outputs": [],
   "source": [
    "meanrating_bylabel = train_data.groupby(['KM_label','product_id'])['user_rating'].mean().reset_index()\n",
    "KM_rating = pd.pivot_table(meanrating_bylabel,index='KM_label',columns='product_id',values='user_rating',fill_value=0)\n",
    "KM_rating_matrix = np.array(KM_rating)"
   ]
  },
  {
   "cell_type": "code",
   "execution_count": 239,
   "metadata": {
    "collapsed": true
   },
   "outputs": [],
   "source": [
    "userIDs = []\n",
    "ave_ratings = []\n",
    "productIDs = []\n",
    "product_ids = np.arange(0,465)\n",
    "cluster = users.groupby('KM_label')['userID'].unique()\n",
    "for i in range(0,50):\n",
    "    cluster_i = cluster[i]\n",
    "    ave_rating = KM_rating_matrix[i]\n",
    "    userIDs = userIDs +465*[cluster_i[j] for j in range(0,len(cluster_i))]\n",
    "    productIDs = productIDs+list(itertools.chain.from_iterable(itertools.repeat(x, len(cluster_i)) for x in product_ids))\n",
    "    ave_ratings = ave_ratings+list(itertools.chain.from_iterable(itertools.repeat(x, len(cluster_i)) for x in ave_rating))\n",
    "\n",
    "KM_df = pd.DataFrame()\n",
    "KM_df['userID'] = userIDs\n",
    "KM_df['product_id'] = productIDs\n",
    "KM_df['ave_rating']=ave_ratings\n",
    "KM_df = KM_df.sort_values('userID')\n",
    "KM_pivot = pd.pivot_table(KM_df,index='userID',columns='product_id',values='ave_rating')\n",
    "KM_pivot_matrix = np.array(KM_pivot)"
   ]
  },
  {
   "cell_type": "code",
   "execution_count": 241,
   "metadata": {
    "collapsed": true
   },
   "outputs": [],
   "source": []
  },
  {
   "cell_type": "code",
   "execution_count": 339,
   "metadata": {
    "collapsed": true
   },
   "outputs": [],
   "source": [
    "#Create a user-product matrix for train set\n",
    "train_data_matrix_CBCF = np.zeros((n_users, n_items))\n",
    "for line in train_data.itertuples():\n",
    "    train_data_matrix_CBCF[line[10]-1, line[2]-1] = line[9]  \n",
    "    "
   ]
  },
  {
   "cell_type": "code",
   "execution_count": 340,
   "metadata": {
    "collapsed": true
   },
   "outputs": [],
   "source": [
    "zeros = train_data_matrix_CBCF==0\n",
    "train_data_matrix_CBCF[zeros] = skintype_averating_pivot_matrix[zeros]"
   ]
  },
  {
   "cell_type": "code",
   "execution_count": 341,
   "metadata": {
    "collapsed": true
   },
   "outputs": [],
   "source": [
    "#Rezero test set entries in train data matrix\n",
    "test_user = np.array(test_data['userID']-1)\n",
    "test_item = np.array(test_data['product_id']-1)\n",
    "train_data_matrix_CBCF[test_user,test_item] = 0"
   ]
  },
  {
   "cell_type": "code",
   "execution_count": 342,
   "metadata": {
    "collapsed": true
   },
   "outputs": [],
   "source": [
    "item_similarity_CBCF = pairwise_distances(train_data_matrix_CBCF.T, metric='cosine')\n",
    "predict_CBCF = predict(train_data_matrix_CBCF,item_similarity_CBCF,type='item')"
   ]
  },
  {
   "cell_type": "code",
   "execution_count": 406,
   "metadata": {
    "collapsed": true
   },
   "outputs": [],
   "source": [
    "#Calculate hybrid distance matrix\n",
    "item_similarity_hybrid = 0.8*item_similarity_CBCF + 0.2*LSI_dist\n",
    "predict_hybrid = predict(train_data_matrix_CBCF,item_similarity_hybrid,type='item')"
   ]
  },
  {
   "cell_type": "code",
   "execution_count": 430,
   "metadata": {
    "scrolled": true
   },
   "outputs": [
    {
     "data": {
      "image/png": "[encoded data removed]",
      "text/plain": [
       "<matplotlib.figure.Figure at 0x1a44139668>"
      ]
     },
     "metadata": {},
     "output_type": "display_data"
    }
   ],
   "source": [
    "mds = MDS(n_components=2, dissimilarity=\"precomputed\", random_state=1)\n",
    "pos = mds.fit_transform(LSI_dist)  # shape (n_components, n_samples)\n",
    "xs, ys = pos[:, 0], pos[:, 1]\n",
    "color = ['blue','red','black']\n",
    "fig, ax = plt.subplots(figsize=(10,10))\n",
    "for i in range(0, len(xs)):\n",
    "    col = color[label[i]-1]\n",
    "    scatter = ax.scatter(np.array(xs[i]), np.array(ys[i]), c=col, s=100, alpha=0.3) \n",
    "plt.xlabel('Dimension 1', fontsize=20, labelpad=20)\n",
    "plt.ylabel('Dimension 2', fontsize=20, labelpad=20)\n",
    "plt.suptitle('Latent Semantic Indexing', fontsize=30)\n",
    "plt.tick_params(labelsize=15, length=14, direction='out', pad=15, top='off', right='off')\n",
    "plt.savefig('MDS_LSI.png')"
   ]
  },
  {
   "cell_type": "markdown",
   "metadata": {},
   "source": [
    "# Validation of Recommender\n",
    "Three type of metrics are used to validate the recommender system: error, classification, and rank-based metrics\n"
   ]
  },
  {
   "cell_type": "markdown",
   "metadata": {},
   "source": [
    "# 1/ Error-based metrics"
   ]
  },
  {
   "cell_type": "code",
   "execution_count": 413,
   "metadata": {
    "collapsed": true
   },
   "outputs": [],
   "source": [
    "from sklearn.metrics import mean_squared_error, mean_absolute_error\n",
    "nonzero_test = test_data_matrix > 0"
   ]
  },
  {
   "cell_type": "code",
   "execution_count": 416,
   "metadata": {},
   "outputs": [
    {
     "name": "stdout",
     "output_type": "stream",
     "text": [
      "MSE = 15.566\n",
      "MAE = 3.693\n"
     ]
    }
   ],
   "source": [
    "print ('MSE = %0.3f' % mean_squared_error(predict_CF[nonzero_test], test_data_matrix[nonzero_test]))\n",
    "print ('MAE = %0.3f' % mean_absolute_error(predict_CF[nonzero_test], test_data_matrix[nonzero_test]))"
   ]
  },
  {
   "cell_type": "code",
   "execution_count": 417,
   "metadata": {},
   "outputs": [
    {
     "name": "stdout",
     "output_type": "stream",
     "text": [
      "MSE = 1.938\n",
      "MAE = 1.207\n"
     ]
    }
   ],
   "source": [
    "print ('MSE = %0.3f' % mean_squared_error(predict_CBCF[nonzero_test], test_data_matrix[nonzero_test]))\n",
    "print ('MAE = %0.3f' % mean_absolute_error(predict_CBCF[nonzero_test], test_data_matrix[nonzero_test]))"
   ]
  },
  {
   "cell_type": "code",
   "execution_count": 418,
   "metadata": {},
   "outputs": [
    {
     "name": "stdout",
     "output_type": "stream",
     "text": [
      "MSE = 1.922\n",
      "MAE = 1.174\n"
     ]
    }
   ],
   "source": [
    "print ('MSE = %0.3f' % mean_squared_error(predict_LSI[nonzero_test], test_data_matrix[nonzero_test]))\n",
    "print ('MAE = %0.3f' % mean_absolute_error(predict_LSI[nonzero_test], test_data_matrix[nonzero_test]))"
   ]
  },
  {
   "cell_type": "code",
   "execution_count": 419,
   "metadata": {},
   "outputs": [
    {
     "name": "stdout",
     "output_type": "stream",
     "text": [
      "MSE = 1.920\n",
      "MAE = 1.176\n"
     ]
    }
   ],
   "source": [
    "print ('MSE = %0.3f' % mean_squared_error(predict_hybrid[nonzero_test], test_data_matrix[nonzero_test]))\n",
    "print ('MAE = %0.3f' % mean_absolute_error(predict_hybrid[nonzero_test], test_data_matrix[nonzero_test]))"
   ]
  },
  {
   "cell_type": "markdown",
   "metadata": {},
   "source": [
    "## 2/ Classification Metrics"
   ]
  },
  {
   "cell_type": "code",
   "execution_count": 99,
   "metadata": {
    "collapsed": true
   },
   "outputs": [],
   "source": [
    "from sklearn.metrics import recall_score, precision_score, f1_score, roc_curve, roc_auc_score"
   ]
  },
  {
   "cell_type": "code",
   "execution_count": 420,
   "metadata": {},
   "outputs": [
    {
     "name": "stdout",
     "output_type": "stream",
     "text": [
      "Recall: 1.000\n",
      "Precision: 0.778\n",
      "F1 score: 0.875\n",
      "ROC-AUC: 0.521\n"
     ]
    },
    {
     "data": {
      "image/png": "[encoded data removed]",
      "text/plain": [
       "<matplotlib.figure.Figure at 0x1a39b5eef0>"
      ]
     },
     "metadata": {},
     "output_type": "display_data"
    }
   ],
   "source": [
    "nonzero_test = test_data_matrix > 0\n",
    "def binarize(arr, tol):\n",
    "    \"\"\"\n",
    "    Convert continous valued array to binary. \n",
    "    \"\"\"\n",
    "    arr[arr < tol] = 0\n",
    "    arr[arr >= tol] = 1\n",
    "    return arr\n",
    "\n",
    "\n",
    "# get non-zero test entries, since we can't evaluate for unsubmitted ratings!\n",
    "y_true = test_data_matrix[nonzero_test]\n",
    "y_pred_CBCF = predict_CBCF[nonzero_test]\n",
    "y_pred_LSI = predict_LSI[nonzero_test]\n",
    "y_pred_hybdrid = predict_hybrid[nonzero_test]\n",
    "y_pred_CF = predict_CF[nonzero_test]\n",
    "\n",
    "# Continous version of predictions, scaled to 0, 1\n",
    "y_pred_scaled1 = (y_pred1 - 1.) /4\n",
    "#y_pred_scaled2 = (y_pred2 - 1.) / 4.\n",
    "#y_pred_scaled3 = (y_pred3 - 1.) / 4.\n",
    "\n",
    "# binarize true values and predictions\n",
    "y_pred_binarized1 = binarize(y_pred1.copy(), 3)\n",
    "#y_pred_binarized2 = binarize(y_pred2.copy(), 3)\n",
    "#y_pred_binarized3 = binarize(y_pred3.copy(), 3)\n",
    "\n",
    "y_true_binarized = binarize(y_true.copy(), 3)\n",
    "\n",
    "# recall, precision, and f1 are definied for binarized (non-continuous) values \n",
    "# of predictions\n",
    "print ('Recall: %0.3f' % recall_score(y_true_binarized, y_pred_binarized1))\n",
    "print ('Precision: %0.3f' % precision_score(y_true_binarized, y_pred_binarized1))\n",
    "print ('F1 score: %0.3f' % f1_score(y_true_binarized, y_pred_binarized1))\n",
    "\n",
    "# roc-auc is more accurate when using continuous predictions.\n",
    "auc_score = roc_auc_score(y_true_binarized, y_pred_scaled1)\n",
    "print ('ROC-AUC: %0.3f' % auc_score)\n",
    "\n",
    "# plot ROC curve\n",
    "fpr1, tpr1, thresholds = roc_curve(y_true_binarized, y_pred_scaled1)\n",
    "#fpr2, tpr2, thresholds2 = roc_curve(y_true_binarized, y_pred_scaled2)\n",
    "#fpr3, tpr3, thresholds3 = roc_curve(y_true_binarized, y_pred_scaled3)\n",
    "\n",
    "plt.figure(figsize=(8, 8))\n",
    "plt.plot(fpr1, tpr1,'r')#,fpr2,tpr2,'b',fpr3,tpr3,'purple')\n",
    "plt.plot([0, 1], [0, 1], 'k--')\n",
    "plt.title('ROC curve')\n",
    "plt.xlabel('FPR')\n",
    "plt.ylabel('TPR')\n",
    "plt.legend()"
   ]
  },
  {
   "cell_type": "markdown",
   "metadata": {
    "collapsed": true
   },
   "source": [
    "# 3/ Rank-based Metrics"
   ]
  },
  {
   "cell_type": "code",
   "execution_count": 346,
   "metadata": {},
   "outputs": [
    {
     "name": "stderr",
     "output_type": "stream",
     "text": [
      "/Users/uyennguyen/anaconda3/lib/python3.6/site-packages/sklearn/metrics/classification.py:1137: UndefinedMetricWarning: Recall is ill-defined and being set to 0.0 due to no true samples.\n",
      "  'recall', 'true', average, warn_for)\n"
     ]
    },
    {
     "name": "stdout",
     "output_type": "stream",
     "text": [
      "recall @4 : 1.000\n",
      "recall @8 : 1.000\n",
      "recall @16 : 1.000\n",
      "recall @32 : 1.000\n"
     ]
    }
   ],
   "source": [
    "def recall_at_k(true, pred, user_ids, k, tol=3.):\n",
    "    unique_users = np.unique(user_ids)\n",
    "    pred_binarized = binarize(pred.copy(), tol)\n",
    "    recalls = np.zeros(unique_users.size)\n",
    "    for i in range(unique_users.size):\n",
    "        user_ind = user_ids == unique_users[i]\n",
    "        user_true = true[user_ind]\n",
    "        user_pred = pred[user_ind]\n",
    "        user_pred_binarized = pred_binarized[user_ind]\n",
    "        ranked_ind = np.argsort(-user_pred)[:k]\n",
    "        recalls[i] = recall_score(user_true[ranked_ind], user_pred_binarized[ranked_ind])\n",
    "    return np.mean(recalls[recalls > 0])\n",
    " \n",
    "user_ids = np.tile(np.array([np.arange(test_data_matrix.shape[0])]).T, (1, test_data_matrix.shape[1]))[nonzero_test]\n",
    "\n",
    "print ('recall @4 : %0.3f' % recall_at_k(y_true_binarized, y_pred1, user_ids, 4))\n",
    "print ('recall @8 : %0.3f' % recall_at_k(y_true_binarized, y_pred1, user_ids, 8))\n",
    "print ('recall @16 : %0.3f' % recall_at_k(y_true_binarized, y_pred1, user_ids, 16))\n",
    "print ('recall @32 : %0.3f' % recall_at_k(y_true_binarized, y_pred1, user_ids, 32))"
   ]
  },
  {
   "cell_type": "markdown",
   "metadata": {},
   "source": [
    "We also can straightforwardly define the **precision@k** in a similar manner.  However, because recommendation data is of an implicit nature many people do not like precision@k itself as a metric - just because an item is not in the test set does not mean the user will not like it in the future.  This fact tends to make precision@k a bit noisy as a standalone metric.\n",
    "\n",
    "Instead, another metric that is often used is the **Mean Average Precision @k (MAP@k)**.  This is simply the mean across all users of the **Average Precision@k**.\n",
    "\n",
    "$$ {\\rm Average Precision@}k = \\sum_{n=1}^{k} \\frac{{\\rm Precision@n}}{{\\rm min}(n, |\\mathbf{y}_u^{\\rm test}|)}$$\n",
    "\n",
    "where $\\mathbf{y}_u^{\\rm test}$ is the test data for the user.  The benefit of the MAP metric is that it accounts for both precision and recall and penalizes bad items which are ranked early.  The downside it that it is less interpretible than recall@k and precision@k."
   ]
  },
  {
   "cell_type": "code",
   "execution_count": 422,
   "metadata": {
    "collapsed": true
   },
   "outputs": [],
   "source": [
    "def precision_at_k(true, pred, user_ids, k, tol=2.):\n",
    "    unique_users = np.unique(user_ids)\n",
    "    pred_binarized = binarize(pred.copy(), tol)\n",
    "    precisions = np.zeros(unique_users.size)\n",
    "    for i in range(unique_users.size):\n",
    "        user_ind = user_ids == unique_users[i]\n",
    "        user_true = true[user_ind]\n",
    "        user_pred = pred[user_ind]\n",
    "        user_pred_binarized = pred_binarized[user_ind]\n",
    "        ranked_ind = np.argsort(-user_pred)[:k]\n",
    "        precisions[i] = precision_score(user_true[ranked_ind], user_pred_binarized[ranked_ind])\n",
    "    return precisions\n",
    " \n",
    "def MAP_at_k(true, pred, user_ids, k, tol=2.):\n",
    "    unique_users = np.unique(user_ids)\n",
    "    precisions_at_ks = np.zeros((k, unique_users.size))\n",
    "    for i in range(k):\n",
    "        precisions_at_ks[i] = precision_at_k(true, pred, user_ids, i+1, tol)\n",
    "    return np.mean(precisions_at_ks[precisions_at_ks > 0])"
   ]
  },
  {
   "cell_type": "code",
   "execution_count": 421,
   "metadata": {},
   "outputs": [
    {
     "name": "stderr",
     "output_type": "stream",
     "text": [
      "/Users/uyennguyen/anaconda3/lib/python3.6/site-packages/sklearn/metrics/classification.py:1135: UndefinedMetricWarning: Precision is ill-defined and being set to 0.0 due to no predicted samples.\n",
      "  'precision', 'predicted', average, warn_for)\n",
      "/Users/uyennguyen/anaconda3/lib/python3.6/site-packages/numpy/core/fromnumeric.py:2909: RuntimeWarning: Mean of empty slice.\n",
      "  out=out, **kwargs)\n",
      "/Users/uyennguyen/anaconda3/lib/python3.6/site-packages/numpy/core/_methods.py:80: RuntimeWarning: invalid value encountered in double_scalars\n",
      "  ret = ret.dtype.type(ret / rcount)\n"
     ]
    },
    {
     "name": "stdout",
     "output_type": "stream",
     "text": [
      "MAP @4 : nan\n",
      "MAP @8 : nan\n",
      "MAP @16 : nan\n",
      "MAP @32 : nan\n"
     ]
    }
   ],
   "source": [
    "print ('MAP @4 : %0.3f' % MAP_at_k(y_true_binarized, y_pred_CBCF, user_ids, 4))\n",
    "print ('MAP @8 : %0.3f' % MAP_at_k(y_true_binarized, y_pred_CBCF, user_ids, 8))\n",
    "print ('MAP @16 : %0.3f' % MAP_at_k(y_true_binarized, y_pred_CBCF, user_ids, 16))\n",
    "print ('MAP @32 : %0.3f' % MAP_at_k(y_true_binarized, y_pred_CBCF, user_ids, 32))"
   ]
  },
  {
   "cell_type": "code",
   "execution_count": 301,
   "metadata": {},
   "outputs": [
    {
     "name": "stdout",
     "output_type": "stream",
     "text": [
      "NDCG @4 : 0.978\n",
      "NDCG @8 : 0.979\n",
      "NDCG @16 : 0.980\n",
      "NDCG @32 : 0.980\n"
     ]
    }
   ],
   "source": [
    "def DCG_at_k(true, pred, user_ids, k):\n",
    "    unique_users = np.unique(user_ids)\n",
    "    dcgs = np.zeros(unique_users.size)\n",
    "    for i in range(unique_users.size):\n",
    "        user_ind = user_ids == unique_users[i]\n",
    "        user_true = true[user_ind]\n",
    "        user_pred = pred[user_ind]\n",
    "        ranked_ind = np.argsort(-user_pred)[:k]\n",
    "        user_relevances = user_true[ranked_ind]\n",
    "        gains = 2. ** (user_relevances)\n",
    "        discounts = np.log2(np.arange(user_relevances.size) + 2)\n",
    "        dcgs[i] = np.sum(gains / discounts)\n",
    "    return dcgs\n",
    "\n",
    "def NDCG_at_k(true, pred, user_ids, k):\n",
    "    actual_dcgs = DCG_at_k(true, pred, user_ids, k)\n",
    "    best_dcgs = DCG_at_k(true, true, user_ids, k)\n",
    "    return np.mean(actual_dcgs / best_dcgs)\n",
    "\n",
    "\n",
    "print ('NDCG @4 : %0.3f' % NDCG_at_k(y_true, y_pred_CF, user_ids, 4))\n",
    "print ('NDCG @8 : %0.3f' % NDCG_at_k(y_true, y_pred_CF, user_ids, 8))\n",
    "print ('NDCG @16 : %0.3f' % NDCG_at_k(y_true, y_pred_CF, user_ids, 16))\n",
    "print ('NDCG @32 : %0.3f' % NDCG_at_k(y_true, y_pred_CF, user_ids, 32))"
   ]
  },
  {
   "cell_type": "code",
   "execution_count": null,
   "metadata": {
    "collapsed": true
   },
   "outputs": [],
   "source": []
  }
 ],
 "metadata": {
  "kernelspec": {
   "display_name": "Python 3",
   "language": "python",
   "name": "python3"
  },
  "language_info": {
   "codemirror_mode": {
    "name": "ipython",
    "version": 3
   },
   "file_extension": ".py",
   "mimetype": "text/x-python",
   "name": "python",
   "nbconvert_exporter": "python",
   "pygments_lexer": "ipython3",
   "version": "3.6.3"
  }
 },
 "nbformat": 4,
 "nbformat_minor": 2
}
