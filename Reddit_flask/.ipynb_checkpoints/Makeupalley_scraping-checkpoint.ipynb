{
 "cells": [
  {
   "cell_type": "code",
   "execution_count": 1,
   "metadata": {
    "collapsed": true
   },
   "outputs": [],
   "source": [
    "import string\n",
    "import time\n",
    "import requests\n",
    "import re\n",
    "import pandas as pd\n",
    "import numpy as np"
   ]
  },
  {
   "cell_type": "code",
   "execution_count": 2,
   "metadata": {
    "collapsed": true
   },
   "outputs": [],
   "source": [
    "import bs4\n",
    "from bs4 import BeautifulSoup\n",
    "import urllib.request\n",
    "from selenium import webdriver"
   ]
  },
  {
   "cell_type": "code",
   "execution_count": 33,
   "metadata": {
    "collapsed": true
   },
   "outputs": [],
   "source": [
    "from sqlalchemy import create_engine\n",
    "from sqlalchemy_utils import database_exists, create_database\n",
    "import psycopg2\n"
   ]
  },
  {
   "cell_type": "code",
   "execution_count": 4,
   "metadata": {},
   "outputs": [
    {
     "name": "stdout",
     "output_type": "stream",
     "text": [
      "postgres://uyennguyen@localhost/Makeupalley_sql\n",
      "True\n"
     ]
    }
   ],
   "source": [
    "dbname = 'Makeupalley_sql'\n",
    "username = 'uyennguyen'\n",
    "\n",
    "engine = create_engine('postgres://%s@localhost/%s'%(username,dbname))\n",
    "print(engine.url)\n",
    "\n",
    "if not database_exists(engine.url):\n",
    "    create_database(engine.url)\n",
    "print(database_exists(engine.url))"
   ]
  },
  {
   "cell_type": "code",
   "execution_count": 22,
   "metadata": {
    "collapsed": true
   },
   "outputs": [],
   "source": [
    "#Create tables in database\n",
    "commands = (\n",
    "        \"\"\"\n",
    "        CREATE TABLE products (\n",
    "            product_id INT PRIMARY KEY,\n",
    "            product_name VARCHAR(300),\n",
    "            product_brand VARCHAR(300),\n",
    "            product_type VARCHAR(300),\n",
    "            ingredients TEXT,\n",
    "            number_reviews INT,\n",
    "            product_url VARCHAR(300),\n",
    "            image_url VARCHAR(300)\n",
    "            \n",
    "        )\n",
    "        \"\"\",\n",
    "        \"\"\" CREATE TABLE users (\n",
    "                product_id INT,\n",
    "                user_id VARCHAR(50),\n",
    "                user_review TEXT,\n",
    "                age VARCHAR(20),\n",
    "                skin_type VARCHAR(50),\n",
    "                skin_tone VARCHAR(50),\n",
    "                skin_temp VARCHAR(50)\n",
    "                )\n",
    "        \"\"\")\n",
    "\n",
    "conn = None\n",
    "conn = psycopg2.connect(database = dbname, user = username)\n",
    "cur = conn.cursor()\n",
    "# create table one by one\n",
    "for command in commands:\n",
    "    cur.execute(command)\n",
    "# close communication with the PostgreSQL database server\n",
    "cur.close()\n",
    "# commit the changes\n",
    "conn.commit()"
   ]
  },
  {
   "cell_type": "code",
   "execution_count": 24,
   "metadata": {},
   "outputs": [
    {
     "name": "stdout",
     "output_type": "stream",
     "text": [
      "[('products',), ('users',)]\n"
     ]
    }
   ],
   "source": [
    "#Check to see if tables exist in db\n",
    "conn = None\n",
    "conn = psycopg2.connect(database = dbname, user = username)\n",
    "cur = conn.cursor()\n",
    "cur.execute(\"select relname from pg_class where relkind='r' and relname !~ '^(pg_|sql_)';\")\n",
    "print (cur.fetchall())"
   ]
  },
  {
   "cell_type": "code",
   "execution_count": 9,
   "metadata": {
    "collapsed": true
   },
   "outputs": [],
   "source": [
    "#Drop a table in db\n",
    "conn = None\n",
    "conn = psycopg2.connect(database = dbname, user = username)\n",
    "cur = conn.cursor()\n",
    "cur.execute('DROP TABLE \"products\";')  \n",
    "conn.commit()"
   ]
  },
  {
   "cell_type": "code",
   "execution_count": 24,
   "metadata": {
    "collapsed": true
   },
   "outputs": [],
   "source": [
    "#Create query to insert data to products table\n",
    "add_to_product = \"\"\"INSERT INTO products(product_id,product_name,product_brand,product_type,ingredients,number_reviews,product_url,image_url) VALUES(%s,%s,%s,%s,%s,%s,%s,%s)\"\"\""
   ]
  },
  {
   "cell_type": "code",
   "execution_count": 29,
   "metadata": {
    "collapsed": true
   },
   "outputs": [],
   "source": [
    "conn = None\n",
    "conn = psycopg2.connect(database = dbname, user = username)\n",
    "cur = conn.cursor()\n",
    "product_id = 249\n",
    "for i in range(0,15):\n",
    "    url = 'https://www.makeupalley.com/product/searching.asp/CategoryId=701/NumberOfReviews=100/SC=HOWMANY/SD=DESC/page=%d' %(i+1)\n",
    "    r = requests.get(url)\n",
    "    soup = BeautifulSoup(r.text,'html.parser')\n",
    "    tds = soup.find_all('td',class_='no-align')\n",
    "    \n",
    "    for j in np.arange(1,len(tds),3):\n",
    "        product_id = product_id + 1\n",
    "        product_url = 'https://www.makeupalley.com'+tds[j].find_all('a')[1].get('href')\n",
    "        no_review = tds[j].find_all('span')[2].text.split()[0]\n",
    "        if ',' in no_review:\n",
    "            no_review = int(no_review.replace(',',''))\n",
    "        else:\n",
    "            no_review = int(no_review)\n",
    "        name = tds[j].find_all('a')[1].text\n",
    "        types = tds[j].find_all('span')[0].text\n",
    "        brand = tds[j].find_all('span')[1].text\n",
    "        product_r = requests.get(product_url)\n",
    "        product_soup = BeautifulSoup(product_r.text,'html.parser')\n",
    "        image_url = product_soup.find_all('div',class_='product-image product-detail-image')[0].find_all('img')[0].get('src')\n",
    "        ingredient = product_soup.find_all('div',class_='product-ingredients')[0].find_all('span')[0].text\n",
    "        data = (product_id,name,brand,types,ingredient,no_review,product_url,image_url)\n",
    "        cur.execute(add_to_product,data)\n",
    "        \n",
    "cur.close()\n",
    "conn.commit()"
   ]
  },
  {
   "cell_type": "code",
   "execution_count": 30,
   "metadata": {
    "collapsed": true
   },
   "outputs": [],
   "source": [
    "sql_query = \"\"\"\n",
    "SELECT * FROM products;\n",
    "\"\"\"\n",
    "products_from_sql = pd.read_sql_query(sql_query,conn)"
   ]
  },
  {
   "cell_type": "code",
   "execution_count": 38,
   "metadata": {},
   "outputs": [
    {
     "data": {
      "text/html": [
       "<div>\n",
       "<style>\n",
       "    .dataframe thead tr:only-child th {\n",
       "        text-align: right;\n",
       "    }\n",
       "\n",
       "    .dataframe thead th {\n",
       "        text-align: left;\n",
       "    }\n",
       "\n",
       "    .dataframe tbody tr th {\n",
       "        vertical-align: top;\n",
       "    }\n",
       "</style>\n",
       "<table border=\"1\" class=\"dataframe\">\n",
       "  <thead>\n",
       "    <tr style=\"text-align: right;\">\n",
       "      <th></th>\n",
       "      <th>product_id</th>\n",
       "      <th>product_name</th>\n",
       "      <th>product_brand</th>\n",
       "      <th>product_type</th>\n",
       "      <th>ingredients</th>\n",
       "      <th>number_reviews</th>\n",
       "      <th>product_url</th>\n",
       "      <th>image_url</th>\n",
       "    </tr>\n",
       "  </thead>\n",
       "  <tbody>\n",
       "    <tr>\n",
       "      <th>460</th>\n",
       "      <td>461</td>\n",
       "      <td>Toleriane Purifying Foaming Cream Cleanser</td>\n",
       "      <td>Cleansers</td>\n",
       "      <td>La Roche-Posay</td>\n",
       "      <td>AQUA / WATER\\nGLYCERIN\\nMYRISTIC ACID\\nPOTASSI...</td>\n",
       "      <td>103</td>\n",
       "      <td>https://www.makeupalley.com/product/showreview...</td>\n",
       "      <td>https://img.makeupalley.com/1/7/1/6/2351215.JPG</td>\n",
       "    </tr>\n",
       "    <tr>\n",
       "      <th>461</th>\n",
       "      <td>462</td>\n",
       "      <td>Milky Jelly Cleanser</td>\n",
       "      <td>Cleansers</td>\n",
       "      <td>Glossier</td>\n",
       "      <td>Water/Aqua/Eau, Rosa Damascena Flower Water, P...</td>\n",
       "      <td>103</td>\n",
       "      <td>https://www.makeupalley.com/product/showreview...</td>\n",
       "      <td>https://img.makeupalley.com/hwthumb/310/310/1_...</td>\n",
       "    </tr>\n",
       "    <tr>\n",
       "      <th>462</th>\n",
       "      <td>463</td>\n",
       "      <td>Foam Cleanser</td>\n",
       "      <td>Cleansers</td>\n",
       "      <td>La Prairie</td>\n",
       "      <td>Purified Water, Glycerin, Potassium Myristate,...</td>\n",
       "      <td>101</td>\n",
       "      <td>https://www.makeupalley.com/product/showreview...</td>\n",
       "      <td>https://img.makeupalley.com/hwthumb/310/310/4_...</td>\n",
       "    </tr>\n",
       "    <tr>\n",
       "      <th>463</th>\n",
       "      <td>464</td>\n",
       "      <td>Creme Radiance</td>\n",
       "      <td>Cleansers</td>\n",
       "      <td>Lancome</td>\n",
       "      <td></td>\n",
       "      <td>100</td>\n",
       "      <td>https://www.makeupalley.com/product/showreview...</td>\n",
       "      <td>https://img.makeupalley.com/hwthumb/310/310/5_...</td>\n",
       "    </tr>\n",
       "    <tr>\n",
       "      <th>464</th>\n",
       "      <td>465</td>\n",
       "      <td>Pore-Fection Cleanser [DISCONTINUED]</td>\n",
       "      <td>Cleansers</td>\n",
       "      <td>Avon</td>\n",
       "      <td>ACTIVE INGREDIENTS: SALICYLIC ACID 0.5% OTHER ...</td>\n",
       "      <td>100</td>\n",
       "      <td>https://www.makeupalley.com/product/showreview...</td>\n",
       "      <td>https://img.makeupalley.com/4/2/0/6/814134.JPG</td>\n",
       "    </tr>\n",
       "  </tbody>\n",
       "</table>\n",
       "</div>"
      ],
      "text/plain": [
       "     product_id                                 product_name product_brand  \\\n",
       "460         461  Toleriane Purifying Foaming Cream Cleanser      Cleansers   \n",
       "461         462                         Milky Jelly Cleanser     Cleansers   \n",
       "462         463                                Foam Cleanser     Cleansers   \n",
       "463         464                               Creme Radiance     Cleansers   \n",
       "464         465         Pore-Fection Cleanser [DISCONTINUED]     Cleansers   \n",
       "\n",
       "       product_type                                        ingredients  \\\n",
       "460  La Roche-Posay  AQUA / WATER\\nGLYCERIN\\nMYRISTIC ACID\\nPOTASSI...   \n",
       "461        Glossier  Water/Aqua/Eau, Rosa Damascena Flower Water, P...   \n",
       "462      La Prairie  Purified Water, Glycerin, Potassium Myristate,...   \n",
       "463         Lancome                                                      \n",
       "464            Avon  ACTIVE INGREDIENTS: SALICYLIC ACID 0.5% OTHER ...   \n",
       "\n",
       "     number_reviews                                        product_url  \\\n",
       "460             103  https://www.makeupalley.com/product/showreview...   \n",
       "461             103  https://www.makeupalley.com/product/showreview...   \n",
       "462             101  https://www.makeupalley.com/product/showreview...   \n",
       "463             100  https://www.makeupalley.com/product/showreview...   \n",
       "464             100  https://www.makeupalley.com/product/showreview...   \n",
       "\n",
       "                                             image_url  \n",
       "460    https://img.makeupalley.com/1/7/1/6/2351215.JPG  \n",
       "461  https://img.makeupalley.com/hwthumb/310/310/1_...  \n",
       "462  https://img.makeupalley.com/hwthumb/310/310/4_...  \n",
       "463  https://img.makeupalley.com/hwthumb/310/310/5_...  \n",
       "464     https://img.makeupalley.com/4/2/0/6/814134.JPG  "
      ]
     },
     "execution_count": 38,
     "metadata": {},
     "output_type": "execute_result"
    }
   ],
   "source": [
    "products_from_sql.tail()"
   ]
  },
  {
   "cell_type": "code",
   "execution_count": 32,
   "metadata": {
    "collapsed": true
   },
   "outputs": [],
   "source": [
    "products_from_sql.to_csv('MakeupAlley_products.csv')"
   ]
  },
  {
   "cell_type": "code",
   "execution_count": 33,
   "metadata": {
    "collapsed": true
   },
   "outputs": [],
   "source": [
    "urls = products_from_sql['product_url']\n",
    "no_reviews = products_from_sql['number_reviews']\n",
    "product_ids = products_from_sql['product_id']"
   ]
  },
  {
   "cell_type": "code",
   "execution_count": 76,
   "metadata": {},
   "outputs": [
    {
     "data": {
      "text/plain": [
       "132045"
      ]
     },
     "execution_count": 76,
     "metadata": {},
     "output_type": "execute_result"
    }
   ],
   "source": [
    "sum(no_reviews)"
   ]
  },
  {
   "cell_type": "code",
   "execution_count": 317,
   "metadata": {
    "collapsed": true
   },
   "outputs": [],
   "source": [
    "#Create query to insert data to users table\n",
    "add_to_users = \"\"\"INSERT INTO users(product_id,user_id,user_review,age,skin_type,skin_tone,skin_temp) VALUES(%s,%s,%s,%s,%s,%s,%s)\"\"\""
   ]
  },
  {
   "cell_type": "code",
   "execution_count": 27,
   "metadata": {
    "collapsed": true
   },
   "outputs": [],
   "source": [
    "sql_query = \"\"\"\n",
    "SELECT * FROM users;\n",
    "\"\"\"\n",
    "users_from_sql = pd.read_sql_query(sql_query,conn)"
   ]
  },
  {
   "cell_type": "code",
   "execution_count": 30,
   "metadata": {},
   "outputs": [
    {
     "data": {
      "text/html": [
       "<div>\n",
       "<style>\n",
       "    .dataframe thead tr:only-child th {\n",
       "        text-align: right;\n",
       "    }\n",
       "\n",
       "    .dataframe thead th {\n",
       "        text-align: left;\n",
       "    }\n",
       "\n",
       "    .dataframe tbody tr th {\n",
       "        vertical-align: top;\n",
       "    }\n",
       "</style>\n",
       "<table border=\"1\" class=\"dataframe\">\n",
       "  <thead>\n",
       "    <tr style=\"text-align: right;\">\n",
       "      <th></th>\n",
       "      <th>product_id</th>\n",
       "      <th>user_id</th>\n",
       "      <th>age</th>\n",
       "      <th>skin_type</th>\n",
       "      <th>skin_tone</th>\n",
       "      <th>skin_temp</th>\n",
       "      <th>review</th>\n",
       "    </tr>\n",
       "  </thead>\n",
       "  <tbody>\n",
       "    <tr>\n",
       "      <th>0</th>\n",
       "      <td>1</td>\n",
       "      <td>KeithRichards</td>\n",
       "      <td>19-24</td>\n",
       "      <td>Sensitive</td>\n",
       "      <td>Fair-Medium</td>\n",
       "      <td>Warm</td>\n",
       "      <td>This is one of my favorite masks. I can't beli...</td>\n",
       "    </tr>\n",
       "    <tr>\n",
       "      <th>1</th>\n",
       "      <td>1</td>\n",
       "      <td>violaceopes</td>\n",
       "      <td>19-24</td>\n",
       "      <td>Sensitive</td>\n",
       "      <td>Fair</td>\n",
       "      <td>Warm</td>\n",
       "      <td>I have very oily skin, and Mint Julep Masque i...</td>\n",
       "    </tr>\n",
       "    <tr>\n",
       "      <th>2</th>\n",
       "      <td>1</td>\n",
       "      <td>stacy199512</td>\n",
       "      <td>19-24</td>\n",
       "      <td>Acne-prone</td>\n",
       "      <td>Fair</td>\n",
       "      <td>Not Sure</td>\n",
       "      <td>Love this stuff! I have oily &amp; combo skin and ...</td>\n",
       "    </tr>\n",
       "    <tr>\n",
       "      <th>3</th>\n",
       "      <td>1</td>\n",
       "      <td>PeachSpice</td>\n",
       "      <td>18 &amp; Under</td>\n",
       "      <td>Acne-prone</td>\n",
       "      <td>Fair</td>\n",
       "      <td>Not Sure</td>\n",
       "      <td>Skin type: oily/acne prone I have the tube ver...</td>\n",
       "    </tr>\n",
       "    <tr>\n",
       "      <th>4</th>\n",
       "      <td>1</td>\n",
       "      <td>eb458310</td>\n",
       "      <td>25-29</td>\n",
       "      <td>Acne-prone</td>\n",
       "      <td>Medium</td>\n",
       "      <td>Not Sure</td>\n",
       "      <td>Great stuff! I've been using this product for ...</td>\n",
       "    </tr>\n",
       "  </tbody>\n",
       "</table>\n",
       "</div>"
      ],
      "text/plain": [
       "   product_id        user_id         age   skin_type    skin_tone skin_temp  \\\n",
       "0           1  KeithRichards       19-24   Sensitive  Fair-Medium      Warm   \n",
       "1           1    violaceopes       19-24   Sensitive         Fair      Warm   \n",
       "2           1    stacy199512       19-24  Acne-prone         Fair  Not Sure   \n",
       "3           1     PeachSpice  18 & Under  Acne-prone         Fair  Not Sure   \n",
       "4           1       eb458310       25-29  Acne-prone       Medium  Not Sure   \n",
       "\n",
       "                                              review  \n",
       "0  This is one of my favorite masks. I can't beli...  \n",
       "1  I have very oily skin, and Mint Julep Masque i...  \n",
       "2  Love this stuff! I have oily & combo skin and ...  \n",
       "3  Skin type: oily/acne prone I have the tube ver...  \n",
       "4  Great stuff! I've been using this product for ...  "
      ]
     },
     "execution_count": 30,
     "metadata": {},
     "output_type": "execute_result"
    }
   ],
   "source": [
    "users.head()"
   ]
  },
  {
   "cell_type": "code",
   "execution_count": 11,
   "metadata": {
    "collapsed": true
   },
   "outputs": [],
   "source": [
    "products = pd.read_csv('MakeupAlley_products.csv')"
   ]
  },
  {
   "cell_type": "code",
   "execution_count": 18,
   "metadata": {
    "collapsed": true
   },
   "outputs": [],
   "source": [
    "products.drop('Unnamed: 0',axis=1,inplace=True)"
   ]
  },
  {
   "cell_type": "code",
   "execution_count": 19,
   "metadata": {
    "collapsed": true
   },
   "outputs": [],
   "source": [
    "products.columns = ['product_id', 'product_name', 'product_type', 'product_brand',\n",
    "       'ingredients', 'number_reviews', 'product_url', 'image_url']"
   ]
  },
  {
   "cell_type": "code",
   "execution_count": 20,
   "metadata": {
    "collapsed": true
   },
   "outputs": [],
   "source": [
    "products.to_sql('products', engine, if_exists='replace')"
   ]
  },
  {
   "cell_type": "code",
   "execution_count": 22,
   "metadata": {
    "collapsed": true
   },
   "outputs": [],
   "source": [
    "users = pd.read_csv('MakeupAlley_users.csv')\n",
    "users.head()\n",
    "users.drop('Unnamed: 0',axis=1,inplace=True)"
   ]
  },
  {
   "cell_type": "code",
   "execution_count": 23,
   "metadata": {
    "collapsed": true
   },
   "outputs": [],
   "source": [
    "users.to_sql('users',engine,if_exists='replace')"
   ]
  },
  {
   "cell_type": "code",
   "execution_count": null,
   "metadata": {
    "collapsed": true
   },
   "outputs": [],
   "source": [
    "conn = None\n",
    "conn = psycopg2.connect(database = dbname, user = username)\n",
    "cur = conn.cursor()\n",
    "\n",
    "for i in range(0,1):\n",
    "    print(i)\n",
    "    url = urls[i]\n",
    "    product_id = int(product_ids[i])\n",
    "    if no_reviews[i]%10==0:\n",
    "        no_page = int(no_reviews[i]/10)\n",
    "    else:\n",
    "        no_page = int(no_reviews[i]/10) + 1\n",
    "        \n",
    "    for page in range(0,no_page):\n",
    "        r = requests.get('/'.join(url.split('/')[0:6])+('/page=%d'%(page+1)))\n",
    "        soup = BeautifulSoup(r.text,'html.parser')\n",
    "        profiles = soup.find_all('div',class_='important')\n",
    "        comments = soup.find_all('div','comment-content')\n",
    "        user_names = soup.find_all('div','user-name')\n",
    "        for j in range(0,len(user_names)):\n",
    "            age = profiles[j].find_all('p')[0].text.split(':')[1].strip(' :')\n",
    "            skin_type = profiles[j].find_all('p')[1].text.split(':')[1].strip(' :').split(',')[0]\n",
    "            skin_tone = profiles[j].find_all('p')[1].text.split(':')[1].strip(' :').split(',')[1].strip(' ')\n",
    "            skin_temp = profiles[j].find_all('p')[1].text.split(':')[1].strip(' :').split(',')[2].strip(' ')\n",
    "            user_name = user_names[j].text.strip(' \\t\\t\\t\\t')\n",
    "            comment = comments[j].text.strip(' \\t\\t\\t')\n",
    "            data = (product_id,user_name,comment,age,skin_type,skin_tone,skin_temp)\n",
    "            cur.execute(add_to_users,data)\n",
    "cur.close()\n",
    "conn.commit()"
   ]
  },
  {
   "cell_type": "code",
   "execution_count": 385,
   "metadata": {
    "collapsed": true
   },
   "outputs": [],
   "source": [
    "users_from_sql.to_csv('MakeupAlley_product1_users.csv')"
   ]
  },
  {
   "cell_type": "code",
   "execution_count": 99,
   "metadata": {
    "collapsed": true
   },
   "outputs": [],
   "source": [
    "users.drop('skin_temp',axis=1,inplace=True)"
   ]
  },
  {
   "cell_type": "code",
   "execution_count": 15,
   "metadata": {
    "collapsed": true
   },
   "outputs": [],
   "source": [
    "#Download images\n",
    "for i in range(0,len(products['image_url'])):\n",
    "    filename = '%d.jpeg' %(i+1)\n",
    "    urllib.request.urlretrieve(products['image_url'].iloc[i],filename)"
   ]
  }
 ],
 "metadata": {
  "kernelspec": {
   "display_name": "Python 3",
   "language": "python",
   "name": "python3"
  },
  "language_info": {
   "codemirror_mode": {
    "name": "ipython",
    "version": 3
   },
   "file_extension": ".py",
   "mimetype": "text/x-python",
   "name": "python",
   "nbconvert_exporter": "python",
   "pygments_lexer": "ipython3",
   "version": "3.6.3"
  }
 },
 "nbformat": 4,
 "nbformat_minor": 2
}
